{
 "cells": [
  {
   "cell_type": "markdown",
   "metadata": {},
   "source": [
    "writing a sliding window algorithm for opencv2 and pure implementation"
   ]
  },
  {
   "cell_type": "code",
   "execution_count": 1,
   "metadata": {},
   "outputs": [],
   "source": [
    "import cv2\n",
    "def sliding_window(image, stride, window_size):\n",
    "    h, w = window_size\n",
    "    img_h, img_w = image.shape[:2]\n",
    "    \n",
    "    # for loop\n",
    "    for y in range(0, img_h, stride):\n",
    "        for x in range(0, img_w, stride):\n",
    "            # define the window\n",
    "            window = image[y:y + h, x:x + w]\n",
    "            # if the win below min then ignore window size\n",
    "            if window.shape[:2] != window_size:\n",
    "                continue\n",
    "            yield (x, y, window)\n"
   ]
  },
  {
   "cell_type": "code",
   "execution_count": 11,
   "metadata": {},
   "outputs": [
    {
     "ename": "",
     "evalue": "",
     "output_type": "error",
     "traceback": [
      "\u001b[1;31mThe Kernel crashed while executing code in the current cell or a previous cell. \n",
      "\u001b[1;31mPlease review the code in the cell(s) to identify a possible cause of the failure. \n",
      "\u001b[1;31mClick <a href='https://aka.ms/vscodeJupyterKernelCrash'>here</a> for more info. \n",
      "\u001b[1;31mView Jupyter <a href='command:jupyter.viewOutput'>log</a> for further details."
     ]
    }
   ],
   "source": [
    "img = \"Cat_fur.jpg\"\n",
    "\n",
    "image = cv2.imread(img)\n",
    "w, h = 156, 156\n",
    "for (x, y, window) in sliding_window(image, stride=40, window_size=(w, h)):\n",
    "    copy = image.copy()\n",
    "    cv2.rectangle(copy, (x, y), (x + w, y + h), (0, 255, 0), 2)\n",
    "    cv2.imshow(\"Window\", copy)\n",
    "    cv2.waitKey(100)"
   ]
  },
  {
   "cell_type": "code",
   "execution_count": null,
   "metadata": {},
   "outputs": [],
   "source": []
  }
 ],
 "metadata": {
  "kernelspec": {
   "display_name": "Python 3",
   "language": "python",
   "name": "python3"
  },
  "language_info": {
   "codemirror_mode": {
    "name": "ipython",
    "version": 3
   },
   "file_extension": ".py",
   "mimetype": "text/x-python",
   "name": "python",
   "nbconvert_exporter": "python",
   "pygments_lexer": "ipython3",
   "version": "3.8.10"
  }
 },
 "nbformat": 4,
 "nbformat_minor": 2
}
